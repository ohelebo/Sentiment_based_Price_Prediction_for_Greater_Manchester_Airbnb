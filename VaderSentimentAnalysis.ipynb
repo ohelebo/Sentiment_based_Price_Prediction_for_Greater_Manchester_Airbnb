{
 "cells": [
  {
   "cell_type": "code",
   "execution_count": 1,
   "id": "ca42f4d1",
   "metadata": {},
   "outputs": [
    {
     "name": "stdout",
     "output_type": "stream",
     "text": [
      "Requirement already satisfied: nltk in c:\\users\\hp\\anaconda3\\lib\\site-packages (3.8.1)\n",
      "Requirement already satisfied: click in c:\\users\\hp\\anaconda3\\lib\\site-packages (from nltk) (8.0.4)\n",
      "Requirement already satisfied: regex>=2021.8.3 in c:\\users\\hp\\anaconda3\\lib\\site-packages (from nltk) (2022.7.9)\n",
      "Requirement already satisfied: tqdm in c:\\users\\hp\\anaconda3\\lib\\site-packages (from nltk) (4.64.1)\n",
      "Requirement already satisfied: joblib in c:\\users\\hp\\anaconda3\\lib\\site-packages (from nltk) (1.1.0)\n",
      "Requirement already satisfied: colorama in c:\\users\\hp\\anaconda3\\lib\\site-packages (from click->nltk) (0.4.5)\n",
      "Note: you may need to restart the kernel to use updated packages.\n"
     ]
    }
   ],
   "source": [
    "pip install --upgrade nltk"
   ]
  },
  {
   "cell_type": "code",
   "execution_count": 2,
   "id": "416a338b",
   "metadata": {},
   "outputs": [
    {
     "name": "stdout",
     "output_type": "stream",
     "text": [
      "Requirement already satisfied: langdetect in c:\\users\\hp\\anaconda3\\lib\\site-packages (1.0.9)\n",
      "Requirement already satisfied: six in c:\\users\\hp\\anaconda3\\lib\\site-packages (from langdetect) (1.16.0)\n"
     ]
    }
   ],
   "source": [
    "#for detecting languages uses in review\n",
    "!pip install langdetect"
   ]
  },
  {
   "cell_type": "code",
   "execution_count": 3,
   "id": "7b6e6135",
   "metadata": {},
   "outputs": [],
   "source": [
    "#for handling tabular dataset\n",
    "import pandas as pd"
   ]
  },
  {
   "cell_type": "code",
   "execution_count": 4,
   "id": "0898c1e7",
   "metadata": {},
   "outputs": [],
   "source": [
    "#for linear, algorithms operations\n",
    "import numpy as np"
   ]
  },
  {
   "cell_type": "code",
   "execution_count": 5,
   "id": "033e1965",
   "metadata": {},
   "outputs": [],
   "source": [
    "#for detecting languages\n",
    "from langdetect import detect"
   ]
  },
  {
   "cell_type": "code",
   "execution_count": 6,
   "id": "9dacc43e",
   "metadata": {},
   "outputs": [],
   "source": [
    "#to remove punctuations, import regular expressions (re)\n",
    "import re"
   ]
  },
  {
   "cell_type": "code",
   "execution_count": 7,
   "id": "baf5c2fa",
   "metadata": {},
   "outputs": [],
   "source": [
    "#for plotting and visualisation\n",
    "import matplotlib.pyplot as plt"
   ]
  },
  {
   "cell_type": "code",
   "execution_count": 8,
   "id": "bd4ccdac",
   "metadata": {},
   "outputs": [],
   "source": [
    "#for cleaning webscrapped data .i.e. removing <br> etc\n",
    "from bs4 import BeautifulSoup"
   ]
  },
  {
   "cell_type": "code",
   "execution_count": 9,
   "id": "72fde544",
   "metadata": {},
   "outputs": [],
   "source": [
    "#for handling natural languages, import the natural language tool kit\n",
    "import nltk"
   ]
  },
  {
   "cell_type": "code",
   "execution_count": 9,
   "id": "c7f15a28",
   "metadata": {},
   "outputs": [],
   "source": [
    "from nltk import word_tokenize\n",
    "from nltk.corpus import stopwords\n",
    "from nltk.stem import WordNetLemmatizer"
   ]
  },
  {
   "cell_type": "code",
   "execution_count": 10,
   "id": "b43c4be4",
   "metadata": {},
   "outputs": [],
   "source": [
    "from sklearn.feature_extraction.text import CountVectorizer, TfidfVectorizer\n",
    "from sklearn.linear_model import LogisticRegression\n",
    "from sklearn.ensemble import RandomForestClassifier\n",
    "from sklearn.naive_bayes import MultinomialNB\n",
    "from sklearn.metrics import accuracy_score,f1_score,ConfusionMatrixDisplay\n",
    "from sklearn.model_selection import train_test_split"
   ]
  },
  {
   "cell_type": "code",
   "execution_count": 11,
   "id": "1a924ce8",
   "metadata": {},
   "outputs": [],
   "source": [
    "from nltk.sentiment import SentimentIntensityAnalyzer\n",
    "from tqdm.notebook import tqdm"
   ]
  },
  {
   "cell_type": "code",
   "execution_count": 12,
   "id": "3c0e77ce",
   "metadata": {},
   "outputs": [],
   "source": [
    "#set working directory\n",
    "import os"
   ]
  },
  {
   "cell_type": "code",
   "execution_count": 13,
   "id": "65614428",
   "metadata": {},
   "outputs": [],
   "source": [
    "#Get present working directory\n",
    "pwd = os.getcwd()"
   ]
  },
  {
   "cell_type": "code",
   "execution_count": 14,
   "id": "ebfcd3a9",
   "metadata": {},
   "outputs": [
    {
     "data": {
      "text/plain": [
       "\"C:\\\\Users\\\\HP\\\\Documents\\\\Master's Project Thaier Hameed\\\\OUTCOME\""
      ]
     },
     "execution_count": 14,
     "metadata": {},
     "output_type": "execute_result"
    }
   ],
   "source": [
    "pwd"
   ]
  },
  {
   "cell_type": "code",
   "execution_count": 15,
   "id": "b43b513c",
   "metadata": {},
   "outputs": [],
   "source": [
    "#Set file directory\n",
    "new_directory = \"C:/Users/HP/Documents/Master's Project Thaier Hameed\""
   ]
  },
  {
   "cell_type": "code",
   "execution_count": 16,
   "id": "d35a6a7b",
   "metadata": {},
   "outputs": [],
   "source": [
    "#Change directory to preferred directory\n",
    "os.chdir(new_directory)"
   ]
  },
  {
   "cell_type": "code",
   "execution_count": 17,
   "id": "e7c8d263",
   "metadata": {},
   "outputs": [],
   "source": [
    "pwd = os.getcwd()"
   ]
  },
  {
   "cell_type": "code",
   "execution_count": 19,
   "id": "4d905774",
   "metadata": {},
   "outputs": [],
   "source": [
    "data = pd.read_csv(pwd + \"/reviews.csv\")"
   ]
  },
  {
   "cell_type": "code",
   "execution_count": 20,
   "id": "7d626dae",
   "metadata": {
    "scrolled": true
   },
   "outputs": [
    {
     "data": {
      "text/html": [
       "<div>\n",
       "<style scoped>\n",
       "    .dataframe tbody tr th:only-of-type {\n",
       "        vertical-align: middle;\n",
       "    }\n",
       "\n",
       "    .dataframe tbody tr th {\n",
       "        vertical-align: top;\n",
       "    }\n",
       "\n",
       "    .dataframe thead th {\n",
       "        text-align: right;\n",
       "    }\n",
       "</style>\n",
       "<table border=\"1\" class=\"dataframe\">\n",
       "  <thead>\n",
       "    <tr style=\"text-align: right;\">\n",
       "      <th></th>\n",
       "      <th>listing_id</th>\n",
       "      <th>id</th>\n",
       "      <th>id2</th>\n",
       "      <th>date</th>\n",
       "      <th>reviewer_id</th>\n",
       "      <th>reviewer_name</th>\n",
       "      <th>comments</th>\n",
       "    </tr>\n",
       "  </thead>\n",
       "  <tbody>\n",
       "    <tr>\n",
       "      <th>0</th>\n",
       "      <td>157612.0</td>\n",
       "      <td>919313.0</td>\n",
       "      <td>0</td>\n",
       "      <td>13/02/2012</td>\n",
       "      <td>1378688</td>\n",
       "      <td>Kristin</td>\n",
       "      <td>Margaret and her husband were the perfect host...</td>\n",
       "    </tr>\n",
       "    <tr>\n",
       "      <th>1</th>\n",
       "      <td>157612.0</td>\n",
       "      <td>922493.0</td>\n",
       "      <td>1</td>\n",
       "      <td>14/02/2012</td>\n",
       "      <td>1724861</td>\n",
       "      <td>Katy</td>\n",
       "      <td>Margaret and Tom are warm, welcoming and incre...</td>\n",
       "    </tr>\n",
       "    <tr>\n",
       "      <th>2</th>\n",
       "      <td>157612.0</td>\n",
       "      <td>1244776.0</td>\n",
       "      <td>2</td>\n",
       "      <td>07/05/2012</td>\n",
       "      <td>2284316</td>\n",
       "      <td>Ian</td>\n",
       "      <td>The place was great, and the photographs give ...</td>\n",
       "    </tr>\n",
       "    <tr>\n",
       "      <th>3</th>\n",
       "      <td>157612.0</td>\n",
       "      <td>1486412.0</td>\n",
       "      <td>3</td>\n",
       "      <td>15/06/2012</td>\n",
       "      <td>1440146</td>\n",
       "      <td>Tim</td>\n",
       "      <td>Super Place, Margaret and Tom are Lovely peopl...</td>\n",
       "    </tr>\n",
       "    <tr>\n",
       "      <th>4</th>\n",
       "      <td>157612.0</td>\n",
       "      <td>1538944.0</td>\n",
       "      <td>4</td>\n",
       "      <td>22/06/2012</td>\n",
       "      <td>2640396</td>\n",
       "      <td>Sherry</td>\n",
       "      <td>Margaret was such a great host and was extreme...</td>\n",
       "    </tr>\n",
       "  </tbody>\n",
       "</table>\n",
       "</div>"
      ],
      "text/plain": [
       "   listing_id         id  id2        date  reviewer_id reviewer_name  \\\n",
       "0    157612.0   919313.0    0  13/02/2012      1378688       Kristin   \n",
       "1    157612.0   922493.0    1  14/02/2012      1724861          Katy   \n",
       "2    157612.0  1244776.0    2  07/05/2012      2284316           Ian   \n",
       "3    157612.0  1486412.0    3  15/06/2012      1440146           Tim   \n",
       "4    157612.0  1538944.0    4  22/06/2012      2640396        Sherry   \n",
       "\n",
       "                                            comments  \n",
       "0  Margaret and her husband were the perfect host...  \n",
       "1  Margaret and Tom are warm, welcoming and incre...  \n",
       "2  The place was great, and the photographs give ...  \n",
       "3  Super Place, Margaret and Tom are Lovely peopl...  \n",
       "4  Margaret was such a great host and was extreme...  "
      ]
     },
     "execution_count": 20,
     "metadata": {},
     "output_type": "execute_result"
    }
   ],
   "source": [
    "data.head()"
   ]
  },
  {
   "cell_type": "code",
   "execution_count": 21,
   "id": "9385036b",
   "metadata": {},
   "outputs": [],
   "source": [
    "#Remove unnecessary columns\n",
    "data.drop(['id','id2','date','reviewer_id','reviewer_name'], axis=1, inplace=True)"
   ]
  },
  {
   "cell_type": "code",
   "execution_count": 22,
   "id": "91621448",
   "metadata": {
    "scrolled": true
   },
   "outputs": [
    {
     "name": "stdout",
     "output_type": "stream",
     "text": [
      "<class 'pandas.core.frame.DataFrame'>\n",
      "RangeIndex: 157064 entries, 0 to 157063\n",
      "Data columns (total 2 columns):\n",
      " #   Column      Non-Null Count   Dtype  \n",
      "---  ------      --------------   -----  \n",
      " 0   listing_id  157064 non-null  float64\n",
      " 1   comments    157044 non-null  object \n",
      "dtypes: float64(1), object(1)\n",
      "memory usage: 2.4+ MB\n"
     ]
    }
   ],
   "source": [
    "data.info()"
   ]
  },
  {
   "cell_type": "code",
   "execution_count": 23,
   "id": "1505a7b7",
   "metadata": {},
   "outputs": [
    {
     "data": {
      "text/html": [
       "<div>\n",
       "<style scoped>\n",
       "    .dataframe tbody tr th:only-of-type {\n",
       "        vertical-align: middle;\n",
       "    }\n",
       "\n",
       "    .dataframe tbody tr th {\n",
       "        vertical-align: top;\n",
       "    }\n",
       "\n",
       "    .dataframe thead th {\n",
       "        text-align: right;\n",
       "    }\n",
       "</style>\n",
       "<table border=\"1\" class=\"dataframe\">\n",
       "  <thead>\n",
       "    <tr style=\"text-align: right;\">\n",
       "      <th></th>\n",
       "      <th>listing_id</th>\n",
       "      <th>comments</th>\n",
       "    </tr>\n",
       "  </thead>\n",
       "  <tbody>\n",
       "    <tr>\n",
       "      <th>0</th>\n",
       "      <td>157612.0</td>\n",
       "      <td>Margaret and her husband were the perfect host...</td>\n",
       "    </tr>\n",
       "    <tr>\n",
       "      <th>1</th>\n",
       "      <td>157612.0</td>\n",
       "      <td>Margaret and Tom are warm, welcoming and incre...</td>\n",
       "    </tr>\n",
       "    <tr>\n",
       "      <th>2</th>\n",
       "      <td>157612.0</td>\n",
       "      <td>The place was great, and the photographs give ...</td>\n",
       "    </tr>\n",
       "    <tr>\n",
       "      <th>3</th>\n",
       "      <td>157612.0</td>\n",
       "      <td>Super Place, Margaret and Tom are Lovely peopl...</td>\n",
       "    </tr>\n",
       "    <tr>\n",
       "      <th>4</th>\n",
       "      <td>157612.0</td>\n",
       "      <td>Margaret was such a great host and was extreme...</td>\n",
       "    </tr>\n",
       "  </tbody>\n",
       "</table>\n",
       "</div>"
      ],
      "text/plain": [
       "   listing_id                                           comments\n",
       "0    157612.0  Margaret and her husband were the perfect host...\n",
       "1    157612.0  Margaret and Tom are warm, welcoming and incre...\n",
       "2    157612.0  The place was great, and the photographs give ...\n",
       "3    157612.0  Super Place, Margaret and Tom are Lovely peopl...\n",
       "4    157612.0  Margaret was such a great host and was extreme..."
      ]
     },
     "execution_count": 23,
     "metadata": {},
     "output_type": "execute_result"
    }
   ],
   "source": [
    "data.head()"
   ]
  },
  {
   "cell_type": "code",
   "execution_count": 24,
   "id": "2288d4a4",
   "metadata": {},
   "outputs": [
    {
     "data": {
      "text/plain": [
       "listing_id     0\n",
       "comments      20\n",
       "dtype: int64"
      ]
     },
     "execution_count": 24,
     "metadata": {},
     "output_type": "execute_result"
    }
   ],
   "source": [
    "#Check for Missing Values (NAs)\n",
    "data.isnull().sum()"
   ]
  },
  {
   "cell_type": "markdown",
   "id": "a050b9e3",
   "metadata": {},
   "source": [
    "REVIEW ANALYSIS"
   ]
  },
  {
   "cell_type": "code",
   "execution_count": 25,
   "id": "2134c4a1",
   "metadata": {},
   "outputs": [],
   "source": [
    "data.dropna(inplace = True)"
   ]
  },
  {
   "cell_type": "code",
   "execution_count": 26,
   "id": "e42868fa",
   "metadata": {},
   "outputs": [
    {
     "name": "stdout",
     "output_type": "stream",
     "text": [
      "<class 'pandas.core.frame.DataFrame'>\n",
      "Int64Index: 157044 entries, 0 to 157063\n",
      "Data columns (total 2 columns):\n",
      " #   Column      Non-Null Count   Dtype  \n",
      "---  ------      --------------   -----  \n",
      " 0   listing_id  157044 non-null  float64\n",
      " 1   comments    157044 non-null  object \n",
      "dtypes: float64(1), object(1)\n",
      "memory usage: 3.6+ MB\n"
     ]
    }
   ],
   "source": [
    "data.info()"
   ]
  },
  {
   "cell_type": "code",
   "execution_count": 27,
   "id": "fd7b810f",
   "metadata": {},
   "outputs": [],
   "source": [
    "#Our data observation revealed that some comments/reviews are not in English language.\n",
    "#Find and extract only the English reviews"
   ]
  },
  {
   "cell_type": "code",
   "execution_count": 28,
   "id": "05894ed5",
   "metadata": {},
   "outputs": [
    {
     "name": "stdout",
     "output_type": "stream",
     "text": [
      "          listing_id                                           comments\n",
      "0       1.576120e+05  Margaret and her husband were the perfect host...\n",
      "1       1.576120e+05  Margaret and Tom are warm, welcoming and incre...\n",
      "2       1.576120e+05  The place was great, and the photographs give ...\n",
      "3       1.576120e+05  Super Place, Margaret and Tom are Lovely peopl...\n",
      "4       1.576120e+05  Margaret was such a great host and was extreme...\n",
      "...              ...                                                ...\n",
      "157059  8.440000e+17   Lovely place to stay. Would recommend to anyone.\n",
      "157060  8.490000e+17  I want to thank Uche for having such a wonderf...\n",
      "157061  8.440000e+17       Great stay ! <br/>Great city <br/>Great host\n",
      "157062  8.510000e+17  I had an amazing stay in Ayman's place. The si...\n",
      "157063  8.510000e+17  My stay was super comfortable. The Hosts were ...\n",
      "\n",
      "[146824 rows x 2 columns]\n"
     ]
    }
   ],
   "source": [
    "def is_english(text):\n",
    "    try:\n",
    "        return detect(text) == 'en'\n",
    "    except:\n",
    "        return False\n",
    "\n",
    "def filter_non_english_rows(dataframe, comments):\n",
    "    filtered_df = dataframe[dataframe['comments'].apply(is_english)]\n",
    "    return filtered_df\n",
    "\n",
    "# Example usage\n",
    "if __name__ == \"__main__\":\n",
    "\n",
    "    eng_comments = filter_non_english_rows(data, 'comments')\n",
    "\n",
    "    #Eng_comments contains only the rows with English language in the specified column\n",
    "    print(eng_comments)\n"
   ]
  },
  {
   "cell_type": "code",
   "execution_count": 45,
   "id": "3a2f7fd5",
   "metadata": {},
   "outputs": [],
   "source": [
    "#eng_comments.to_csv('Engreviews.csv')"
   ]
  },
  {
   "cell_type": "markdown",
   "id": "ec3c8f2c",
   "metadata": {},
   "source": [
    "DATA CLEANING/PREPROCESSING PROCEDURE\n",
    "\n",
    "\n",
    ". Remove HTML Tags\n",
    "\n",
    ". Remove punctuation and numeric values\n",
    "\n",
    ". Convert texts to lower case\n",
    "\n",
    ". Split words to list\n",
    "\n",
    ". Remove stopwords\n",
    "\n",
    ". Perform Lemmatization"
   ]
  },
  {
   "cell_type": "code",
   "execution_count": 46,
   "id": "cf4af0a1",
   "metadata": {},
   "outputs": [],
   "source": [
    "#Install stopwords\n",
    "#Wordnet holds a lemmatizer class"
   ]
  },
  {
   "cell_type": "code",
   "execution_count": 47,
   "id": "56b8ba15",
   "metadata": {},
   "outputs": [],
   "source": [
    "data = pd.read_csv(pwd + \"/Engreviews.csv\")"
   ]
  },
  {
   "cell_type": "code",
   "execution_count": 48,
   "id": "fab97115",
   "metadata": {},
   "outputs": [
    {
     "data": {
      "text/html": [
       "<div>\n",
       "<style scoped>\n",
       "    .dataframe tbody tr th:only-of-type {\n",
       "        vertical-align: middle;\n",
       "    }\n",
       "\n",
       "    .dataframe tbody tr th {\n",
       "        vertical-align: top;\n",
       "    }\n",
       "\n",
       "    .dataframe thead th {\n",
       "        text-align: right;\n",
       "    }\n",
       "</style>\n",
       "<table border=\"1\" class=\"dataframe\">\n",
       "  <thead>\n",
       "    <tr style=\"text-align: right;\">\n",
       "      <th></th>\n",
       "      <th>Unnamed: 0</th>\n",
       "      <th>listing_id</th>\n",
       "      <th>comments</th>\n",
       "    </tr>\n",
       "  </thead>\n",
       "  <tbody>\n",
       "    <tr>\n",
       "      <th>0</th>\n",
       "      <td>0</td>\n",
       "      <td>157612.0</td>\n",
       "      <td>Margaret and her husband were the perfect host...</td>\n",
       "    </tr>\n",
       "    <tr>\n",
       "      <th>1</th>\n",
       "      <td>1</td>\n",
       "      <td>157612.0</td>\n",
       "      <td>Margaret and Tom are warm, welcoming and incre...</td>\n",
       "    </tr>\n",
       "    <tr>\n",
       "      <th>2</th>\n",
       "      <td>2</td>\n",
       "      <td>157612.0</td>\n",
       "      <td>The place was great, and the photographs give ...</td>\n",
       "    </tr>\n",
       "    <tr>\n",
       "      <th>3</th>\n",
       "      <td>3</td>\n",
       "      <td>157612.0</td>\n",
       "      <td>Super Place, Margaret and Tom are Lovely peopl...</td>\n",
       "    </tr>\n",
       "    <tr>\n",
       "      <th>4</th>\n",
       "      <td>4</td>\n",
       "      <td>157612.0</td>\n",
       "      <td>Margaret was such a great host and was extreme...</td>\n",
       "    </tr>\n",
       "  </tbody>\n",
       "</table>\n",
       "</div>"
      ],
      "text/plain": [
       "   Unnamed: 0  listing_id                                           comments\n",
       "0           0    157612.0  Margaret and her husband were the perfect host...\n",
       "1           1    157612.0  Margaret and Tom are warm, welcoming and incre...\n",
       "2           2    157612.0  The place was great, and the photographs give ...\n",
       "3           3    157612.0  Super Place, Margaret and Tom are Lovely peopl...\n",
       "4           4    157612.0  Margaret was such a great host and was extreme..."
      ]
     },
     "execution_count": 48,
     "metadata": {},
     "output_type": "execute_result"
    }
   ],
   "source": [
    "data.head()"
   ]
  },
  {
   "cell_type": "code",
   "execution_count": 49,
   "id": "d32ccfed",
   "metadata": {},
   "outputs": [
    {
     "name": "stderr",
     "output_type": "stream",
     "text": [
      "[nltk_data] Downloading package stopwords to\n",
      "[nltk_data]     C:\\Users\\HP\\AppData\\Roaming\\nltk_data...\n",
      "[nltk_data]   Package stopwords is already up-to-date!\n",
      "[nltk_data] Downloading package wordnet to\n",
      "[nltk_data]     C:\\Users\\HP\\AppData\\Roaming\\nltk_data...\n",
      "[nltk_data]   Package wordnet is already up-to-date!\n",
      "[nltk_data] Downloading package omw-1.4 to\n",
      "[nltk_data]     C:\\Users\\HP\\AppData\\Roaming\\nltk_data...\n",
      "[nltk_data]   Package omw-1.4 is already up-to-date!\n"
     ]
    },
    {
     "data": {
      "text/plain": [
       "True"
      ]
     },
     "execution_count": 49,
     "metadata": {},
     "output_type": "execute_result"
    }
   ],
   "source": [
    "nltk.download('stopwords')\n",
    "nltk.download('wordnet')\n",
    "nltk.download('omw-1.4')"
   ]
  },
  {
   "cell_type": "code",
   "execution_count": 50,
   "id": "c0a5a32f",
   "metadata": {},
   "outputs": [],
   "source": [
    "from nltk.sentiment import SentimentIntensityAnalyzer\n",
    "from tqdm.notebook import tqdm"
   ]
  },
  {
   "cell_type": "code",
   "execution_count": 51,
   "id": "3fd3d952",
   "metadata": {},
   "outputs": [],
   "source": [
    "#APPLY the process to the entire comment"
   ]
  },
  {
   "cell_type": "markdown",
   "id": "476a7494",
   "metadata": {},
   "source": [
    "USING VADER (Valence Aware Dictionary and SENTIMENT Reasoner)- Bag of words approach"
   ]
  },
  {
   "cell_type": "code",
   "execution_count": 53,
   "id": "2a5a31cd",
   "metadata": {},
   "outputs": [
    {
     "name": "stderr",
     "output_type": "stream",
     "text": [
      "[nltk_data] Downloading package vader_lexicon to\n",
      "[nltk_data]     C:\\Users\\HP\\AppData\\Roaming\\nltk_data...\n",
      "[nltk_data]   Package vader_lexicon is already up-to-date!\n"
     ]
    },
    {
     "data": {
      "text/plain": [
       "True"
      ]
     },
     "execution_count": 53,
     "metadata": {},
     "output_type": "execute_result"
    }
   ],
   "source": [
    "import nltk\n",
    "nltk.download('vader_lexicon')"
   ]
  },
  {
   "cell_type": "code",
   "execution_count": 54,
   "id": "fcd7b2c9",
   "metadata": {},
   "outputs": [],
   "source": [
    "def review_transform(review):\n",
    "    review = BeautifulSoup(review).get_text()\n",
    "    review = re.sub(\"[^a-zA-Z]\", \" \", review)\n",
    "    review = review.lower()\n",
    "    review = review.split()\n",
    "    stop_words = set(stopwords.words('english'))\n",
    "    lemmatizer = WordNetLemmatizer()\n",
    "    review = [lemmatizer.lemmatize(w) for w in review if w not in stop_words]\n",
    "    return \" \".join(review)"
   ]
  },
  {
   "cell_type": "code",
   "execution_count": 55,
   "id": "3130f6e2",
   "metadata": {},
   "outputs": [
    {
     "name": "stderr",
     "output_type": "stream",
     "text": [
      "C:\\Users\\HP\\anaconda3\\lib\\site-packages\\bs4\\__init__.py:435: MarkupResemblesLocatorWarning: The input looks more like a filename than markup. You may want to open this file and pass the filehandle into Beautiful Soup.\n",
      "  warnings.warn(\n"
     ]
    }
   ],
   "source": [
    "# Apply the review_transform function to the 'comments' column and store the transformed comments in a new column\n",
    "data['transformed_comments'] = data['comments'].apply(review_transform)"
   ]
  },
  {
   "cell_type": "code",
   "execution_count": 56,
   "id": "1e560020",
   "metadata": {},
   "outputs": [],
   "source": [
    "sia = SentimentIntensityAnalyzer()"
   ]
  },
  {
   "cell_type": "code",
   "execution_count": 57,
   "id": "7d360be5",
   "metadata": {},
   "outputs": [],
   "source": [
    "# Initialize lists to store sentiment scores\n",
    "compound_scores = []\n",
    "neg_scores = []\n",
    "neu_scores = []\n",
    "pos_scores = []"
   ]
  },
  {
   "cell_type": "code",
   "execution_count": 58,
   "id": "6dedcbae",
   "metadata": {},
   "outputs": [
    {
     "data": {
      "application/vnd.jupyter.widget-view+json": {
       "model_id": "8663e2179e35498692e2ffae1ee02a20",
       "version_major": 2,
       "version_minor": 0
      },
      "text/plain": [
       "  0%|          | 0/146824 [00:00<?, ?it/s]"
      ]
     },
     "metadata": {},
     "output_type": "display_data"
    }
   ],
   "source": [
    "# Iterate over the transformed comments and calculate sentiment scores\n",
    "for text in tqdm(data['transformed_comments']):\n",
    "    sentiment_scores = sia.polarity_scores(text)\n",
    "    compound_scores.append(sentiment_scores['compound'])\n",
    "    neg_scores.append(sentiment_scores['neg'])\n",
    "    neu_scores.append(sentiment_scores['neu'])\n",
    "    pos_scores.append(sentiment_scores['pos'])"
   ]
  },
  {
   "cell_type": "code",
   "execution_count": 59,
   "id": "fadd0dee",
   "metadata": {},
   "outputs": [],
   "source": [
    "# Add the sentiment scores to the original dataset\n",
    "data['compound_score'] = compound_scores\n",
    "data['neg_score'] = neg_scores\n",
    "data['neu_score'] = neu_scores\n",
    "data['pos_score'] = pos_scores"
   ]
  },
  {
   "cell_type": "code",
   "execution_count": 60,
   "id": "e9cbee42",
   "metadata": {},
   "outputs": [],
   "source": [
    "# Drop the 'transformed_comments' column if no longer needed\n",
    "data.drop('transformed_comments', axis=1, inplace=True)"
   ]
  },
  {
   "cell_type": "code",
   "execution_count": 61,
   "id": "d40b2adc",
   "metadata": {},
   "outputs": [
    {
     "name": "stdout",
     "output_type": "stream",
     "text": [
      "        Unnamed: 0    listing_id  \\\n",
      "0                0  1.576120e+05   \n",
      "1                1  1.576120e+05   \n",
      "2                2  1.576120e+05   \n",
      "3                3  1.576120e+05   \n",
      "4                4  1.576120e+05   \n",
      "...            ...           ...   \n",
      "146819      157059  8.440000e+17   \n",
      "146820      157060  8.490000e+17   \n",
      "146821      157061  8.440000e+17   \n",
      "146822      157062  8.510000e+17   \n",
      "146823      157063  8.510000e+17   \n",
      "\n",
      "                                                 comments  compound_score  \\\n",
      "0       Margaret and her husband were the perfect host...          0.9873   \n",
      "1       Margaret and Tom are warm, welcoming and incre...          0.9348   \n",
      "2       The place was great, and the photographs give ...          0.8777   \n",
      "3       Super Place, Margaret and Tom are Lovely peopl...          0.8885   \n",
      "4       Margaret was such a great host and was extreme...          0.9789   \n",
      "...                                                   ...             ...   \n",
      "146819   Lovely place to stay. Would recommend to anyone.          0.7430   \n",
      "146820  I want to thank Uche for having such a wonderf...          0.8979   \n",
      "146821       Great stay ! <br/>Great city <br/>Great host          0.9231   \n",
      "146822  I had an amazing stay in Ayman's place. The si...          0.9833   \n",
      "146823  My stay was super comfortable. The Hosts were ...          0.9891   \n",
      "\n",
      "        neg_score  neu_score  pos_score  \n",
      "0             0.0      0.386      0.614  \n",
      "1             0.0      0.497      0.503  \n",
      "2             0.0      0.373      0.627  \n",
      "3             0.0      0.462      0.538  \n",
      "4             0.0      0.465      0.535  \n",
      "...           ...        ...        ...  \n",
      "146819        0.0      0.388      0.612  \n",
      "146820        0.0      0.411      0.589  \n",
      "146821        0.0      0.196      0.804  \n",
      "146822        0.0      0.361      0.639  \n",
      "146823        0.0      0.339      0.661  \n",
      "\n",
      "[146824 rows x 7 columns]\n"
     ]
    }
   ],
   "source": [
    "print(data)"
   ]
  },
  {
   "cell_type": "code",
   "execution_count": 63,
   "id": "0773c26f",
   "metadata": {},
   "outputs": [],
   "source": [
    "#data.to_csv('Engreviewdatawithsentiment.csv')"
   ]
  },
  {
   "cell_type": "code",
   "execution_count": 20,
   "id": "985f06d2",
   "metadata": {},
   "outputs": [],
   "source": [
    "avgcenti = pd.read_csv(pwd + \"/OUTCOME/Engreviewdatawithsentiment.csv\")"
   ]
  },
  {
   "cell_type": "code",
   "execution_count": 21,
   "id": "2699aee7",
   "metadata": {},
   "outputs": [
    {
     "data": {
      "text/html": [
       "<div>\n",
       "<style scoped>\n",
       "    .dataframe tbody tr th:only-of-type {\n",
       "        vertical-align: middle;\n",
       "    }\n",
       "\n",
       "    .dataframe tbody tr th {\n",
       "        vertical-align: top;\n",
       "    }\n",
       "\n",
       "    .dataframe thead th {\n",
       "        text-align: right;\n",
       "    }\n",
       "</style>\n",
       "<table border=\"1\" class=\"dataframe\">\n",
       "  <thead>\n",
       "    <tr style=\"text-align: right;\">\n",
       "      <th></th>\n",
       "      <th>Unnamed: 0.1</th>\n",
       "      <th>Unnamed: 0</th>\n",
       "      <th>listing_id</th>\n",
       "      <th>comments</th>\n",
       "      <th>compound_score</th>\n",
       "      <th>neg_score</th>\n",
       "      <th>neu_score</th>\n",
       "      <th>pos_score</th>\n",
       "    </tr>\n",
       "  </thead>\n",
       "  <tbody>\n",
       "    <tr>\n",
       "      <th>0</th>\n",
       "      <td>0</td>\n",
       "      <td>0</td>\n",
       "      <td>157612.0</td>\n",
       "      <td>Margaret and her husband were the perfect host...</td>\n",
       "      <td>0.9873</td>\n",
       "      <td>0.0</td>\n",
       "      <td>0.386</td>\n",
       "      <td>0.614</td>\n",
       "    </tr>\n",
       "    <tr>\n",
       "      <th>1</th>\n",
       "      <td>1</td>\n",
       "      <td>1</td>\n",
       "      <td>157612.0</td>\n",
       "      <td>Margaret and Tom are warm, welcoming and incre...</td>\n",
       "      <td>0.9348</td>\n",
       "      <td>0.0</td>\n",
       "      <td>0.497</td>\n",
       "      <td>0.503</td>\n",
       "    </tr>\n",
       "    <tr>\n",
       "      <th>2</th>\n",
       "      <td>2</td>\n",
       "      <td>2</td>\n",
       "      <td>157612.0</td>\n",
       "      <td>The place was great, and the photographs give ...</td>\n",
       "      <td>0.8777</td>\n",
       "      <td>0.0</td>\n",
       "      <td>0.373</td>\n",
       "      <td>0.627</td>\n",
       "    </tr>\n",
       "    <tr>\n",
       "      <th>3</th>\n",
       "      <td>3</td>\n",
       "      <td>3</td>\n",
       "      <td>157612.0</td>\n",
       "      <td>Super Place, Margaret and Tom are Lovely peopl...</td>\n",
       "      <td>0.8885</td>\n",
       "      <td>0.0</td>\n",
       "      <td>0.462</td>\n",
       "      <td>0.538</td>\n",
       "    </tr>\n",
       "    <tr>\n",
       "      <th>4</th>\n",
       "      <td>4</td>\n",
       "      <td>4</td>\n",
       "      <td>157612.0</td>\n",
       "      <td>Margaret was such a great host and was extreme...</td>\n",
       "      <td>0.9789</td>\n",
       "      <td>0.0</td>\n",
       "      <td>0.465</td>\n",
       "      <td>0.535</td>\n",
       "    </tr>\n",
       "  </tbody>\n",
       "</table>\n",
       "</div>"
      ],
      "text/plain": [
       "   Unnamed: 0.1  Unnamed: 0  listing_id  \\\n",
       "0             0           0    157612.0   \n",
       "1             1           1    157612.0   \n",
       "2             2           2    157612.0   \n",
       "3             3           3    157612.0   \n",
       "4             4           4    157612.0   \n",
       "\n",
       "                                            comments  compound_score  \\\n",
       "0  Margaret and her husband were the perfect host...          0.9873   \n",
       "1  Margaret and Tom are warm, welcoming and incre...          0.9348   \n",
       "2  The place was great, and the photographs give ...          0.8777   \n",
       "3  Super Place, Margaret and Tom are Lovely peopl...          0.8885   \n",
       "4  Margaret was such a great host and was extreme...          0.9789   \n",
       "\n",
       "   neg_score  neu_score  pos_score  \n",
       "0        0.0      0.386      0.614  \n",
       "1        0.0      0.497      0.503  \n",
       "2        0.0      0.373      0.627  \n",
       "3        0.0      0.462      0.538  \n",
       "4        0.0      0.465      0.535  "
      ]
     },
     "execution_count": 21,
     "metadata": {},
     "output_type": "execute_result"
    }
   ],
   "source": [
    "avgcenti.head()"
   ]
  },
  {
   "cell_type": "code",
   "execution_count": 23,
   "id": "a243f5d7",
   "metadata": {},
   "outputs": [
    {
     "data": {
      "text/html": [
       "<div>\n",
       "<style scoped>\n",
       "    .dataframe tbody tr th:only-of-type {\n",
       "        vertical-align: middle;\n",
       "    }\n",
       "\n",
       "    .dataframe tbody tr th {\n",
       "        vertical-align: top;\n",
       "    }\n",
       "\n",
       "    .dataframe thead th {\n",
       "        text-align: right;\n",
       "    }\n",
       "</style>\n",
       "<table border=\"1\" class=\"dataframe\">\n",
       "  <thead>\n",
       "    <tr style=\"text-align: right;\">\n",
       "      <th></th>\n",
       "      <th>listing_id</th>\n",
       "      <th>Unnamed: 0.1</th>\n",
       "      <th>Unnamed: 0</th>\n",
       "      <th>compound_score</th>\n",
       "      <th>neg_score</th>\n",
       "      <th>neu_score</th>\n",
       "      <th>pos_score</th>\n",
       "    </tr>\n",
       "  </thead>\n",
       "  <tbody>\n",
       "    <tr>\n",
       "      <th>0</th>\n",
       "      <td>157612.0</td>\n",
       "      <td>76.456897</td>\n",
       "      <td>78.887931</td>\n",
       "      <td>0.897447</td>\n",
       "      <td>0.016603</td>\n",
       "      <td>0.475802</td>\n",
       "      <td>0.507569</td>\n",
       "    </tr>\n",
       "    <tr>\n",
       "      <th>1</th>\n",
       "      <td>283495.0</td>\n",
       "      <td>177.500000</td>\n",
       "      <td>185.500000</td>\n",
       "      <td>0.966780</td>\n",
       "      <td>0.002900</td>\n",
       "      <td>0.428600</td>\n",
       "      <td>0.568400</td>\n",
       "    </tr>\n",
       "    <tr>\n",
       "      <th>2</th>\n",
       "      <td>299194.0</td>\n",
       "      <td>518.065147</td>\n",
       "      <td>538.136808</td>\n",
       "      <td>0.878289</td>\n",
       "      <td>0.017792</td>\n",
       "      <td>0.478404</td>\n",
       "      <td>0.503801</td>\n",
       "    </tr>\n",
       "    <tr>\n",
       "      <th>3</th>\n",
       "      <td>310742.0</td>\n",
       "      <td>1002.262295</td>\n",
       "      <td>1052.606557</td>\n",
       "      <td>0.832784</td>\n",
       "      <td>0.015984</td>\n",
       "      <td>0.476672</td>\n",
       "      <td>0.507311</td>\n",
       "    </tr>\n",
       "    <tr>\n",
       "      <th>4</th>\n",
       "      <td>411843.0</td>\n",
       "      <td>1362.338028</td>\n",
       "      <td>1443.737089</td>\n",
       "      <td>0.868647</td>\n",
       "      <td>0.014103</td>\n",
       "      <td>0.516042</td>\n",
       "      <td>0.469854</td>\n",
       "    </tr>\n",
       "  </tbody>\n",
       "</table>\n",
       "</div>"
      ],
      "text/plain": [
       "   listing_id  Unnamed: 0.1   Unnamed: 0  compound_score  neg_score  \\\n",
       "0    157612.0     76.456897    78.887931        0.897447   0.016603   \n",
       "1    283495.0    177.500000   185.500000        0.966780   0.002900   \n",
       "2    299194.0    518.065147   538.136808        0.878289   0.017792   \n",
       "3    310742.0   1002.262295  1052.606557        0.832784   0.015984   \n",
       "4    411843.0   1362.338028  1443.737089        0.868647   0.014103   \n",
       "\n",
       "   neu_score  pos_score  \n",
       "0   0.475802   0.507569  \n",
       "1   0.428600   0.568400  \n",
       "2   0.478404   0.503801  \n",
       "3   0.476672   0.507311  \n",
       "4   0.516042   0.469854  "
      ]
     },
     "execution_count": 23,
     "metadata": {},
     "output_type": "execute_result"
    }
   ],
   "source": [
    "# Group by listing_id and take mean of compound_score\n",
    "df = avgcenti.groupby('listing_id').mean().reset_index()\n",
    "\n",
    "df.head()"
   ]
  },
  {
   "cell_type": "code",
   "execution_count": 26,
   "id": "6ba836c2",
   "metadata": {},
   "outputs": [
    {
     "data": {
      "text/html": [
       "<div>\n",
       "<style scoped>\n",
       "    .dataframe tbody tr th:only-of-type {\n",
       "        vertical-align: middle;\n",
       "    }\n",
       "\n",
       "    .dataframe tbody tr th {\n",
       "        vertical-align: top;\n",
       "    }\n",
       "\n",
       "    .dataframe thead th {\n",
       "        text-align: right;\n",
       "    }\n",
       "</style>\n",
       "<table border=\"1\" class=\"dataframe\">\n",
       "  <thead>\n",
       "    <tr style=\"text-align: right;\">\n",
       "      <th></th>\n",
       "      <th>listing_id</th>\n",
       "      <th>compound_score</th>\n",
       "    </tr>\n",
       "  </thead>\n",
       "  <tbody>\n",
       "    <tr>\n",
       "      <th>0</th>\n",
       "      <td>157612.0</td>\n",
       "      <td>0.897447</td>\n",
       "    </tr>\n",
       "    <tr>\n",
       "      <th>1</th>\n",
       "      <td>283495.0</td>\n",
       "      <td>0.966780</td>\n",
       "    </tr>\n",
       "    <tr>\n",
       "      <th>2</th>\n",
       "      <td>299194.0</td>\n",
       "      <td>0.878289</td>\n",
       "    </tr>\n",
       "    <tr>\n",
       "      <th>3</th>\n",
       "      <td>310742.0</td>\n",
       "      <td>0.832784</td>\n",
       "    </tr>\n",
       "    <tr>\n",
       "      <th>4</th>\n",
       "      <td>411843.0</td>\n",
       "      <td>0.868647</td>\n",
       "    </tr>\n",
       "  </tbody>\n",
       "</table>\n",
       "</div>"
      ],
      "text/plain": [
       "   listing_id  compound_score\n",
       "0    157612.0        0.897447\n",
       "1    283495.0        0.966780\n",
       "2    299194.0        0.878289\n",
       "3    310742.0        0.832784\n",
       "4    411843.0        0.868647"
      ]
     },
     "execution_count": 26,
     "metadata": {},
     "output_type": "execute_result"
    }
   ],
   "source": [
    "# Group by 'listing_id' and calculate the average of 'compound_score' for each group\n",
    "avg_compound_score = avgcenti.groupby('listing_id')['compound_score'].mean().reset_index()\n",
    "\n",
    "# Print the resulting DataFrame\n",
    "avg_compound_score.head()"
   ]
  },
  {
   "cell_type": "code",
   "execution_count": 27,
   "id": "2f436875",
   "metadata": {},
   "outputs": [],
   "source": [
    "avg_compound_score.to_csv('avg_compound_score.csv')"
   ]
  },
  {
   "cell_type": "markdown",
   "id": "8807c36b",
   "metadata": {},
   "source": [
    "MERGE LISTING AND AVERAGE COMPOUND SCORE"
   ]
  },
  {
   "cell_type": "code",
   "execution_count": 32,
   "id": "b8c10283",
   "metadata": {},
   "outputs": [],
   "source": [
    "list = pd.read_csv(\"C:/Users/HP/Documents/Master's Project Thaier Hameed/OUTCOME/listings_complete_details.csv\")"
   ]
  },
  {
   "cell_type": "code",
   "execution_count": 33,
   "id": "929abcf3",
   "metadata": {
    "scrolled": true
   },
   "outputs": [
    {
     "data": {
      "text/html": [
       "<div>\n",
       "<style scoped>\n",
       "    .dataframe tbody tr th:only-of-type {\n",
       "        vertical-align: middle;\n",
       "    }\n",
       "\n",
       "    .dataframe tbody tr th {\n",
       "        vertical-align: top;\n",
       "    }\n",
       "\n",
       "    .dataframe thead th {\n",
       "        text-align: right;\n",
       "    }\n",
       "</style>\n",
       "<table border=\"1\" class=\"dataframe\">\n",
       "  <thead>\n",
       "    <tr style=\"text-align: right;\">\n",
       "      <th></th>\n",
       "      <th>listing_id</th>\n",
       "      <th>listing_url</th>\n",
       "      <th>scrape_id</th>\n",
       "      <th>last_scraped</th>\n",
       "      <th>source</th>\n",
       "      <th>name</th>\n",
       "      <th>description</th>\n",
       "      <th>neighborhood_overview</th>\n",
       "      <th>picture_url</th>\n",
       "      <th>host_id</th>\n",
       "      <th>...</th>\n",
       "      <th>review_scores_location</th>\n",
       "      <th>review_scores_value</th>\n",
       "      <th>license</th>\n",
       "      <th>instant_bookable</th>\n",
       "      <th>calculated_host_listings_count</th>\n",
       "      <th>calculated_host_listings_count_entire_homes</th>\n",
       "      <th>calculated_host_listings_count_private_rooms</th>\n",
       "      <th>calculated_host_listings_count_shared_rooms</th>\n",
       "      <th>reviews_per_month</th>\n",
       "      <th>compound_score</th>\n",
       "    </tr>\n",
       "  </thead>\n",
       "  <tbody>\n",
       "    <tr>\n",
       "      <th>0</th>\n",
       "      <td>157612.0</td>\n",
       "      <td>https://www.airbnb.com/rooms/157612</td>\n",
       "      <td>2.020000e+13</td>\n",
       "      <td>27/03/2023</td>\n",
       "      <td>city scrape</td>\n",
       "      <td>New attic space/single &amp; Dble room</td>\n",
       "      <td>The loft space is a small but cosy, private an...</td>\n",
       "      <td>There is a public park within easy walking dis...</td>\n",
       "      <td>https://a0.muscache.com/pictures/18150718/745a...</td>\n",
       "      <td>757016</td>\n",
       "      <td>...</td>\n",
       "      <td>4.66</td>\n",
       "      <td>4.92</td>\n",
       "      <td>NaN</td>\n",
       "      <td>f</td>\n",
       "      <td>1</td>\n",
       "      <td>1</td>\n",
       "      <td>0</td>\n",
       "      <td>0</td>\n",
       "      <td>0.91</td>\n",
       "      <td>0.897447</td>\n",
       "    </tr>\n",
       "    <tr>\n",
       "      <th>1</th>\n",
       "      <td>1241309.0</td>\n",
       "      <td>https://www.airbnb.com/rooms/1241309</td>\n",
       "      <td>2.020000e+13</td>\n",
       "      <td>27/03/2023</td>\n",
       "      <td>city scrape</td>\n",
       "      <td>★Glass Roof★Walkable★Full Kitch★Office★Deck★Ga...</td>\n",
       "      <td>✔︎Walk Score 75 (most errands can be accomplis...</td>\n",
       "      <td>You will find my personal recommendations in m...</td>\n",
       "      <td>https://a0.muscache.com/pictures/miso/Hosting-...</td>\n",
       "      <td>6766640</td>\n",
       "      <td>...</td>\n",
       "      <td>4.00</td>\n",
       "      <td>4.00</td>\n",
       "      <td>NaN</td>\n",
       "      <td>f</td>\n",
       "      <td>3</td>\n",
       "      <td>3</td>\n",
       "      <td>0</td>\n",
       "      <td>0</td>\n",
       "      <td>0.06</td>\n",
       "      <td>0.877900</td>\n",
       "    </tr>\n",
       "    <tr>\n",
       "      <th>2</th>\n",
       "      <td>4468181.0</td>\n",
       "      <td>https://www.airbnb.com/rooms/4468181</td>\n",
       "      <td>2.020000e+13</td>\n",
       "      <td>27/03/2023</td>\n",
       "      <td>city scrape</td>\n",
       "      <td>Double Room in shared apartment</td>\n",
       "      <td>Close to Motorway links, free on street public...</td>\n",
       "      <td>NaN</td>\n",
       "      <td>https://a0.muscache.com/pictures/5284eef5-392d...</td>\n",
       "      <td>23182584</td>\n",
       "      <td>...</td>\n",
       "      <td>3.67</td>\n",
       "      <td>5.00</td>\n",
       "      <td>NaN</td>\n",
       "      <td>f</td>\n",
       "      <td>1</td>\n",
       "      <td>0</td>\n",
       "      <td>1</td>\n",
       "      <td>0</td>\n",
       "      <td>0.05</td>\n",
       "      <td>0.764475</td>\n",
       "    </tr>\n",
       "    <tr>\n",
       "      <th>3</th>\n",
       "      <td>283495.0</td>\n",
       "      <td>https://www.airbnb.com/rooms/283495</td>\n",
       "      <td>2.020000e+13</td>\n",
       "      <td>27/03/2023</td>\n",
       "      <td>city scrape</td>\n",
       "      <td>En-suite room in detached house</td>\n",
       "      <td>&lt;b&gt;The space&lt;/b&gt;&lt;br /&gt;Double bedroom with King...</td>\n",
       "      <td>The suburbaness of it all but 2 minutes from t...</td>\n",
       "      <td>https://a0.muscache.com/pictures/78775473/2d8f...</td>\n",
       "      <td>1476718</td>\n",
       "      <td>...</td>\n",
       "      <td>4.80</td>\n",
       "      <td>5.00</td>\n",
       "      <td>NaN</td>\n",
       "      <td>f</td>\n",
       "      <td>1</td>\n",
       "      <td>0</td>\n",
       "      <td>1</td>\n",
       "      <td>0</td>\n",
       "      <td>0.10</td>\n",
       "      <td>0.966780</td>\n",
       "    </tr>\n",
       "    <tr>\n",
       "      <th>4</th>\n",
       "      <td>1329093.0</td>\n",
       "      <td>https://www.airbnb.com/rooms/1329093</td>\n",
       "      <td>2.020000e+13</td>\n",
       "      <td>27/03/2023</td>\n",
       "      <td>city scrape</td>\n",
       "      <td>Private B&amp;B Double Room 2</td>\n",
       "      <td>&lt;b&gt;The space&lt;/b&gt;&lt;br /&gt;Private Guest Rooms suit...</td>\n",
       "      <td>NaN</td>\n",
       "      <td>https://a0.muscache.com/pictures/a80681fd-9e4d...</td>\n",
       "      <td>219489200</td>\n",
       "      <td>...</td>\n",
       "      <td>4.81</td>\n",
       "      <td>4.61</td>\n",
       "      <td>NaN</td>\n",
       "      <td>f</td>\n",
       "      <td>1</td>\n",
       "      <td>0</td>\n",
       "      <td>1</td>\n",
       "      <td>0</td>\n",
       "      <td>3.54</td>\n",
       "      <td>0.745230</td>\n",
       "    </tr>\n",
       "  </tbody>\n",
       "</table>\n",
       "<p>5 rows × 76 columns</p>\n",
       "</div>"
      ],
      "text/plain": [
       "   listing_id                           listing_url     scrape_id  \\\n",
       "0    157612.0   https://www.airbnb.com/rooms/157612  2.020000e+13   \n",
       "1   1241309.0  https://www.airbnb.com/rooms/1241309  2.020000e+13   \n",
       "2   4468181.0  https://www.airbnb.com/rooms/4468181  2.020000e+13   \n",
       "3    283495.0   https://www.airbnb.com/rooms/283495  2.020000e+13   \n",
       "4   1329093.0  https://www.airbnb.com/rooms/1329093  2.020000e+13   \n",
       "\n",
       "  last_scraped       source  \\\n",
       "0   27/03/2023  city scrape   \n",
       "1   27/03/2023  city scrape   \n",
       "2   27/03/2023  city scrape   \n",
       "3   27/03/2023  city scrape   \n",
       "4   27/03/2023  city scrape   \n",
       "\n",
       "                                                name  \\\n",
       "0                 New attic space/single & Dble room   \n",
       "1  ★Glass Roof★Walkable★Full Kitch★Office★Deck★Ga...   \n",
       "2                    Double Room in shared apartment   \n",
       "3                    En-suite room in detached house   \n",
       "4                          Private B&B Double Room 2   \n",
       "\n",
       "                                         description  \\\n",
       "0  The loft space is a small but cosy, private an...   \n",
       "1  ✔︎Walk Score 75 (most errands can be accomplis...   \n",
       "2  Close to Motorway links, free on street public...   \n",
       "3  <b>The space</b><br />Double bedroom with King...   \n",
       "4  <b>The space</b><br />Private Guest Rooms suit...   \n",
       "\n",
       "                               neighborhood_overview  \\\n",
       "0  There is a public park within easy walking dis...   \n",
       "1  You will find my personal recommendations in m...   \n",
       "2                                                NaN   \n",
       "3  The suburbaness of it all but 2 minutes from t...   \n",
       "4                                                NaN   \n",
       "\n",
       "                                         picture_url    host_id  ...  \\\n",
       "0  https://a0.muscache.com/pictures/18150718/745a...     757016  ...   \n",
       "1  https://a0.muscache.com/pictures/miso/Hosting-...    6766640  ...   \n",
       "2  https://a0.muscache.com/pictures/5284eef5-392d...   23182584  ...   \n",
       "3  https://a0.muscache.com/pictures/78775473/2d8f...    1476718  ...   \n",
       "4  https://a0.muscache.com/pictures/a80681fd-9e4d...  219489200  ...   \n",
       "\n",
       "  review_scores_location review_scores_value license instant_bookable  \\\n",
       "0                   4.66                4.92     NaN                f   \n",
       "1                   4.00                4.00     NaN                f   \n",
       "2                   3.67                5.00     NaN                f   \n",
       "3                   4.80                5.00     NaN                f   \n",
       "4                   4.81                4.61     NaN                f   \n",
       "\n",
       "  calculated_host_listings_count calculated_host_listings_count_entire_homes  \\\n",
       "0                              1                                           1   \n",
       "1                              3                                           3   \n",
       "2                              1                                           0   \n",
       "3                              1                                           0   \n",
       "4                              1                                           0   \n",
       "\n",
       "  calculated_host_listings_count_private_rooms  \\\n",
       "0                                            0   \n",
       "1                                            0   \n",
       "2                                            1   \n",
       "3                                            1   \n",
       "4                                            1   \n",
       "\n",
       "  calculated_host_listings_count_shared_rooms reviews_per_month compound_score  \n",
       "0                                           0              0.91       0.897447  \n",
       "1                                           0              0.06       0.877900  \n",
       "2                                           0              0.05       0.764475  \n",
       "3                                           0              0.10       0.966780  \n",
       "4                                           0              3.54       0.745230  \n",
       "\n",
       "[5 rows x 76 columns]"
      ]
     },
     "execution_count": 33,
     "metadata": {},
     "output_type": "execute_result"
    }
   ],
   "source": [
    "# Merge the two DataFrames on 'listing_id'\n",
    "merged_list_avg_compound = pd.merge(list, avg_compound_score, on='listing_id', how='inner')\n",
    "\n",
    "# Print the resulting merged DataFrame\n",
    "merged_list_avg_compound.head()"
   ]
  },
  {
   "cell_type": "code",
   "execution_count": 34,
   "id": "d64447ed",
   "metadata": {},
   "outputs": [],
   "source": [
    "merged_list_avg_compound.to_csv('listwithAvgRating.csv')"
   ]
  },
  {
   "cell_type": "code",
   "execution_count": null,
   "id": "84991794",
   "metadata": {},
   "outputs": [],
   "source": []
  }
 ],
 "metadata": {
  "kernelspec": {
   "display_name": "Python 3 (ipykernel)",
   "language": "python",
   "name": "python3"
  },
  "language_info": {
   "codemirror_mode": {
    "name": "ipython",
    "version": 3
   },
   "file_extension": ".py",
   "mimetype": "text/x-python",
   "name": "python",
   "nbconvert_exporter": "python",
   "pygments_lexer": "ipython3",
   "version": "3.9.13"
  }
 },
 "nbformat": 4,
 "nbformat_minor": 5
}
